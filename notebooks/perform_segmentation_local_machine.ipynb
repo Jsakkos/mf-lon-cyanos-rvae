{
 "cells": [
  {
   "cell_type": "code",
   "execution_count": 1,
   "source": [
    "\r\n"
   ],
   "outputs": [],
   "metadata": {}
  },
  {
   "cell_type": "markdown",
   "source": [
    "Run this script to segment CZI images in the /data directory. We use Cellpose for carboxysome (mNG, channel 0) and cell (DsRed, channel 1) segmentation."
   ],
   "metadata": {}
  },
  {
   "cell_type": "code",
   "execution_count": null,
   "source": [
    "import matplotlib.pyplot as plt\r\n",
    "from cellpose import models, utils,plot,io\r\n",
    "import numpy as np\r\n",
    "import time, os, sys\r\n",
    "from pathlib import Path\r\n",
    "import czifile\r\n",
    "import pandas as pd\r\n",
    "from tqdm import tqdm"
   ],
   "outputs": [],
   "metadata": {}
  },
  {
   "cell_type": "code",
   "execution_count": 2,
   "source": [
    "use_GPU = models.use_gpu()\r\n",
    "print('>>> GPU activated? %d'%use_GPU)\r\n",
    "\r\n",
    "model = models.Cellpose(gpu=use_GPU,model_type='cyto')"
   ],
   "outputs": [
    {
     "output_type": "stream",
     "name": "stdout",
     "text": [
      ">>> GPU activated? 1\n"
     ]
    }
   ],
   "metadata": {}
  },
  {
   "cell_type": "code",
   "execution_count": 3,
   "source": [
    "directory = r'../data'\r\n",
    "##function to segment images based on NN model\r\n",
    "def segment(model, image,diameter):    \r\n",
    "    mask, flow, style, diam = model.eval(image, diameter=diameter)\r\n",
    "#\r\n",
    "    return mask, flow, style, diam"
   ],
   "outputs": [],
   "metadata": {}
  },
  {
   "cell_type": "code",
   "execution_count": 4,
   "source": [
    "files = Path(directory).rglob('*.czi')\r\n"
   ],
   "outputs": [],
   "metadata": {}
  },
  {
   "cell_type": "code",
   "execution_count": 5,
   "source": [
    "force = False\r\n",
    "#set folders to loop through and experimental conditions\r\n",
    "\r\n",
    "files = Path(directory).rglob('*.czi')\r\n",
    "for f in tqdm(list(files)):\r\n",
    "    print(f)\r\n",
    "    if 'Control' in str(f):\r\n",
    "        IPTG = 0\r\n",
    "    elif 'Induced' in str(f):\r\n",
    "        IPTG = 1\r\n",
    "    else:\r\n",
    "        print('no folder?')\r\n",
    "    image = czifile.imread(f)\r\n",
    "    img = np.squeeze(image)\r\n",
    "    brightfield = img[2,:,:]\r\n",
    "    dsred = img[1,:,:]\r\n",
    "    mng = img[0,:,:]\r\n",
    "    mng = mng.astype(np.float64)\r\n",
    "    if not os.path.exists(str(f)[0:-4] + '_cell.npy'):\r\n",
    "        cell_mask, flow, style, diam = segment(model, dsred,20)\r\n",
    "        np.save(str(f)[0:-4] + '_cell.npy',cell_mask)\r\n",
    "    elif force == True:\r\n",
    "        cell_mask, flow, style, diam = segment(model, dsred,20)\r\n",
    "        np.save(str(f)[0:-4] + '_cell.npy',cell_mask)\r\n",
    "\r\n",
    "    else:\r\n",
    "        print('Skipped Cell mask for ' + str(f))\r\n",
    "        cell_mask = np.load(str(f)[0:-4] + '_cell.npy')\r\n",
    "    \r\n",
    "    if not os.path.exists(str(f)[0:-4] + '_ccm.npy'):\r\n",
    "        ccm_mask, flow, style, diam = segment(model, mng,7)\r\n",
    "        np.save(str(f)[0:-4] + '_ccm.npy',ccm_mask)\r\n",
    "    elif force == True:\r\n",
    "        ccm_mask, flow, style, diam = segment(model, mng,7)\r\n",
    "        np.save(str(f)[0:-4] + '_ccm.npy',ccm_mask)\r\n",
    "    else:\r\n",
    "        print('Skipped CCM mask for ' + str(f))\r\n",
    "\r\n"
   ],
   "outputs": [
    {
     "output_type": "stream",
     "name": "stderr",
     "text": [
      "  2%|▏         | 2/96 [00:00<00:05, 16.53it/s]"
     ]
    },
    {
     "output_type": "stream",
     "name": "stdout",
     "text": [
      "..\\data\\Control\\24\\Control-02.czi\n",
      "Skipped Cell mask for ..\\data\\Control\\24\\Control-02.czi\n",
      "Skipped CCM mask for ..\\data\\Control\\24\\Control-02.czi\n",
      "..\\data\\Control\\24\\Control-03.czi\n",
      "Skipped Cell mask for ..\\data\\Control\\24\\Control-03.czi\n",
      "Skipped CCM mask for ..\\data\\Control\\24\\Control-03.czi\n",
      "..\\data\\Control\\24\\Control-04.czi\n",
      "Skipped Cell mask for ..\\data\\Control\\24\\Control-04.czi\n",
      "Skipped CCM mask for ..\\data\\Control\\24\\Control-04.czi\n",
      "..\\data\\Control\\24\\Control-05.czi\n"
     ]
    },
    {
     "output_type": "stream",
     "name": "stderr",
     "text": [
      "C:\\Users\\sakkosjo\\Anaconda3\\envs\\ml\\lib\\site-packages\\torch\\nn\\functional.py:3828: UserWarning: Default grid_sample and affine_grid behavior has changed to align_corners=False since 1.3.0. Please specify align_corners=True if the old behavior is desired. See the documentation of grid_sample for details.\n",
      "  warnings.warn(\n",
      "  4%|▍         | 4/96 [03:30<1:34:44, 61.79s/it]"
     ]
    },
    {
     "output_type": "stream",
     "name": "stdout",
     "text": [
      "..\\data\\Control\\24\\Control-06.czi\n"
     ]
    },
    {
     "output_type": "stream",
     "name": "stderr",
     "text": [
      "  5%|▌         | 5/96 [07:05<2:42:32, 107.17s/it]"
     ]
    },
    {
     "output_type": "stream",
     "name": "stdout",
     "text": [
      "..\\data\\Control\\24\\Control-07.czi\n"
     ]
    },
    {
     "output_type": "stream",
     "name": "stderr",
     "text": [
      "  6%|▋         | 6/96 [10:14<3:17:22, 131.59s/it]"
     ]
    },
    {
     "output_type": "stream",
     "name": "stdout",
     "text": [
      "..\\data\\Control\\24\\Control-08.czi\n"
     ]
    },
    {
     "output_type": "stream",
     "name": "stderr",
     "text": [
      "  7%|▋         | 7/96 [13:33<3:44:53, 151.62s/it]"
     ]
    },
    {
     "output_type": "stream",
     "name": "stdout",
     "text": [
      "..\\data\\Control\\24\\Control-09.czi\n"
     ]
    },
    {
     "output_type": "stream",
     "name": "stderr",
     "text": [
      "  8%|▊         | 8/96 [16:58<4:05:45, 167.57s/it]"
     ]
    },
    {
     "output_type": "stream",
     "name": "stdout",
     "text": [
      "..\\data\\Control\\24\\Control.czi\n"
     ]
    },
    {
     "output_type": "stream",
     "name": "stderr",
     "text": [
      "  9%|▉         | 9/96 [20:28<4:21:33, 180.38s/it]"
     ]
    },
    {
     "output_type": "stream",
     "name": "stdout",
     "text": [
      "..\\data\\Control\\4\\#321 t = 4-02.czi\n"
     ]
    },
    {
     "output_type": "stream",
     "name": "stderr",
     "text": [
      " 10%|█         | 10/96 [23:27<4:17:55, 179.95s/it]"
     ]
    },
    {
     "output_type": "stream",
     "name": "stdout",
     "text": [
      "..\\data\\Control\\4\\#321 t = 4-03.czi\n"
     ]
    },
    {
     "output_type": "stream",
     "name": "stderr",
     "text": [
      " 11%|█▏        | 11/96 [26:38<4:19:37, 183.26s/it]"
     ]
    },
    {
     "output_type": "stream",
     "name": "stdout",
     "text": [
      "..\\data\\Control\\4\\#321 t = 4-04.czi\n"
     ]
    },
    {
     "output_type": "stream",
     "name": "stderr",
     "text": [
      " 12%|█▎        | 12/96 [29:33<4:12:55, 180.66s/it]"
     ]
    },
    {
     "output_type": "stream",
     "name": "stdout",
     "text": [
      "..\\data\\Control\\4\\#321 t = 4-05.czi\n"
     ]
    },
    {
     "output_type": "stream",
     "name": "stderr",
     "text": [
      " 14%|█▎        | 13/96 [32:38<4:11:53, 182.10s/it]"
     ]
    },
    {
     "output_type": "stream",
     "name": "stdout",
     "text": [
      "..\\data\\Control\\4\\#321 t = 4-06.czi\n"
     ]
    },
    {
     "output_type": "stream",
     "name": "stderr",
     "text": [
      " 15%|█▍        | 14/96 [35:18<3:59:30, 175.25s/it]"
     ]
    },
    {
     "output_type": "stream",
     "name": "stdout",
     "text": [
      "..\\data\\Control\\4\\#321 t = 4-07.czi\n"
     ]
    },
    {
     "output_type": "stream",
     "name": "stderr",
     "text": [
      " 16%|█▌        | 15/96 [38:32<4:04:30, 181.11s/it]"
     ]
    },
    {
     "output_type": "stream",
     "name": "stdout",
     "text": [
      "..\\data\\Control\\4\\#321 t = 4-08.czi\n"
     ]
    },
    {
     "output_type": "stream",
     "name": "stderr",
     "text": [
      " 17%|█▋        | 16/96 [41:29<3:59:29, 179.61s/it]"
     ]
    },
    {
     "output_type": "stream",
     "name": "stdout",
     "text": [
      "..\\data\\Control\\4\\#321 t = 4-09.czi\n"
     ]
    },
    {
     "output_type": "stream",
     "name": "stderr",
     "text": [
      " 18%|█▊        | 17/96 [44:27<3:56:00, 179.25s/it]"
     ]
    },
    {
     "output_type": "stream",
     "name": "stdout",
     "text": [
      "..\\data\\Control\\4\\#321 t = 4-10.czi\n"
     ]
    },
    {
     "output_type": "stream",
     "name": "stderr",
     "text": [
      " 19%|█▉        | 18/96 [47:10<3:46:49, 174.48s/it]"
     ]
    },
    {
     "output_type": "stream",
     "name": "stdout",
     "text": [
      "..\\data\\Control\\4\\#321 t = 4.czi\n"
     ]
    },
    {
     "output_type": "stream",
     "name": "stderr",
     "text": [
      " 20%|█▉        | 19/96 [50:07<3:44:37, 175.04s/it]"
     ]
    },
    {
     "output_type": "stream",
     "name": "stdout",
     "text": [
      "..\\data\\Control\\48\\Control-02.czi\n"
     ]
    },
    {
     "output_type": "stream",
     "name": "stderr",
     "text": [
      " 21%|██        | 20/96 [53:45<3:58:11, 188.04s/it]"
     ]
    },
    {
     "output_type": "stream",
     "name": "stdout",
     "text": [
      "..\\data\\Control\\48\\Control-03.czi\n"
     ]
    },
    {
     "output_type": "stream",
     "name": "stderr",
     "text": [
      " 22%|██▏       | 21/96 [56:18<3:41:43, 177.38s/it]"
     ]
    },
    {
     "output_type": "stream",
     "name": "stdout",
     "text": [
      "..\\data\\Control\\48\\Control-04.czi\n"
     ]
    },
    {
     "output_type": "stream",
     "name": "stderr",
     "text": [
      " 23%|██▎       | 22/96 [59:58<3:54:50, 190.41s/it]"
     ]
    },
    {
     "output_type": "stream",
     "name": "stdout",
     "text": [
      "..\\data\\Control\\48\\Control-2.czi\n"
     ]
    },
    {
     "output_type": "stream",
     "name": "stderr",
     "text": [
      " 24%|██▍       | 23/96 [1:03:08<3:51:26, 190.23s/it]"
     ]
    },
    {
     "output_type": "stream",
     "name": "stdout",
     "text": [
      "..\\data\\Control\\48\\Control.czi\n"
     ]
    },
    {
     "output_type": "stream",
     "name": "stderr",
     "text": [
      " 25%|██▌       | 24/96 [1:06:17<3:47:37, 189.69s/it]"
     ]
    },
    {
     "output_type": "stream",
     "name": "stdout",
     "text": [
      "..\\data\\Control\\72\\Control-02.czi\n"
     ]
    },
    {
     "output_type": "stream",
     "name": "stderr",
     "text": [
      " 26%|██▌       | 25/96 [1:09:09<3:38:19, 184.50s/it]"
     ]
    },
    {
     "output_type": "stream",
     "name": "stdout",
     "text": [
      "..\\data\\Control\\72\\Control-03.czi\n"
     ]
    },
    {
     "output_type": "stream",
     "name": "stderr",
     "text": [
      " 27%|██▋       | 26/96 [1:11:36<3:22:14, 173.35s/it]"
     ]
    },
    {
     "output_type": "stream",
     "name": "stdout",
     "text": [
      "..\\data\\Control\\72\\Control-04.czi\n"
     ]
    },
    {
     "output_type": "stream",
     "name": "stderr",
     "text": [
      " 28%|██▊       | 27/96 [1:14:45<3:24:36, 177.91s/it]"
     ]
    },
    {
     "output_type": "stream",
     "name": "stdout",
     "text": [
      "..\\data\\Control\\72\\Control-05.czi\n"
     ]
    },
    {
     "output_type": "stream",
     "name": "stderr",
     "text": [
      " 29%|██▉       | 28/96 [1:17:40<3:20:36, 177.01s/it]"
     ]
    },
    {
     "output_type": "stream",
     "name": "stdout",
     "text": [
      "..\\data\\Control\\72\\Control-06.czi\n"
     ]
    },
    {
     "output_type": "stream",
     "name": "stderr",
     "text": [
      " 30%|███       | 29/96 [1:21:16<3:30:56, 188.91s/it]"
     ]
    },
    {
     "output_type": "stream",
     "name": "stdout",
     "text": [
      "..\\data\\Control\\72\\Control-07.czi\n"
     ]
    },
    {
     "output_type": "stream",
     "name": "stderr",
     "text": [
      " 31%|███▏      | 30/96 [1:24:33<3:30:12, 191.10s/it]"
     ]
    },
    {
     "output_type": "stream",
     "name": "stdout",
     "text": [
      "..\\data\\Control\\72\\Control-08.czi\n"
     ]
    },
    {
     "output_type": "stream",
     "name": "stderr",
     "text": [
      " 32%|███▏      | 31/96 [1:28:02<3:32:50, 196.46s/it]"
     ]
    },
    {
     "output_type": "stream",
     "name": "stdout",
     "text": [
      "..\\data\\Control\\72\\Control-09.czi\n"
     ]
    },
    {
     "output_type": "stream",
     "name": "stderr",
     "text": [
      " 33%|███▎      | 32/96 [1:31:36<3:35:25, 201.97s/it]"
     ]
    },
    {
     "output_type": "stream",
     "name": "stdout",
     "text": [
      "..\\data\\Control\\72\\Control.czi\n"
     ]
    },
    {
     "output_type": "stream",
     "name": "stderr",
     "text": [
      " 34%|███▍      | 33/96 [1:34:24<3:21:16, 191.69s/it]"
     ]
    },
    {
     "output_type": "stream",
     "name": "stdout",
     "text": [
      "..\\data\\Control\\8\\#321 t = 8-02.czi\n"
     ]
    },
    {
     "output_type": "stream",
     "name": "stderr",
     "text": [
      " 35%|███▌      | 34/96 [1:37:44<3:20:33, 194.09s/it]"
     ]
    },
    {
     "output_type": "stream",
     "name": "stdout",
     "text": [
      "..\\data\\Control\\8\\#321 t = 8-03.czi\n"
     ]
    },
    {
     "output_type": "stream",
     "name": "stderr",
     "text": [
      " 36%|███▋      | 35/96 [1:40:46<3:13:31, 190.36s/it]"
     ]
    },
    {
     "output_type": "stream",
     "name": "stdout",
     "text": [
      "..\\data\\Control\\8\\#321 t = 8-04.czi\n"
     ]
    },
    {
     "output_type": "stream",
     "name": "stderr",
     "text": [
      " 38%|███▊      | 36/96 [1:44:08<3:13:57, 193.95s/it]"
     ]
    },
    {
     "output_type": "stream",
     "name": "stdout",
     "text": [
      "..\\data\\Control\\8\\#321 t = 8-05.czi\n"
     ]
    },
    {
     "output_type": "stream",
     "name": "stderr",
     "text": [
      " 39%|███▊      | 37/96 [1:47:18<3:09:30, 192.72s/it]"
     ]
    },
    {
     "output_type": "stream",
     "name": "stdout",
     "text": [
      "..\\data\\Control\\8\\#321 t = 8-06.czi\n"
     ]
    },
    {
     "output_type": "stream",
     "name": "stderr",
     "text": [
      " 40%|███▉      | 38/96 [1:50:52<3:12:29, 199.12s/it]"
     ]
    },
    {
     "output_type": "stream",
     "name": "stdout",
     "text": [
      "..\\data\\Control\\8\\#321 t = 8-07.czi\n"
     ]
    },
    {
     "output_type": "stream",
     "name": "stderr",
     "text": [
      " 41%|████      | 39/96 [1:54:04<3:07:08, 197.00s/it]"
     ]
    },
    {
     "output_type": "stream",
     "name": "stdout",
     "text": [
      "..\\data\\Control\\8\\#321 t = 8-08.czi\n"
     ]
    },
    {
     "output_type": "stream",
     "name": "stderr",
     "text": [
      " 42%|████▏     | 40/96 [1:57:29<3:06:04, 199.36s/it]"
     ]
    },
    {
     "output_type": "stream",
     "name": "stdout",
     "text": [
      "..\\data\\Control\\8\\#321 t = 8-09.czi\n"
     ]
    },
    {
     "output_type": "stream",
     "name": "stderr",
     "text": [
      " 43%|████▎     | 41/96 [2:00:47<3:02:19, 198.90s/it]"
     ]
    },
    {
     "output_type": "stream",
     "name": "stdout",
     "text": [
      "..\\data\\Control\\8\\#321 t = 8-10.czi\n"
     ]
    },
    {
     "output_type": "stream",
     "name": "stderr",
     "text": [
      " 44%|████▍     | 42/96 [2:04:03<2:58:22, 198.19s/it]"
     ]
    },
    {
     "output_type": "stream",
     "name": "stdout",
     "text": [
      "..\\data\\Control\\8\\#321 t = 8.czi\n"
     ]
    },
    {
     "output_type": "stream",
     "name": "stderr",
     "text": [
      " 45%|████▍     | 43/96 [2:06:41<2:44:23, 186.11s/it]"
     ]
    },
    {
     "output_type": "stream",
     "name": "stdout",
     "text": [
      "..\\data\\Induced\\24\\30 uM Theophylline-02.czi\n"
     ]
    },
    {
     "output_type": "stream",
     "name": "stderr",
     "text": [
      " 46%|████▌     | 44/96 [2:10:04<2:45:38, 191.12s/it]"
     ]
    },
    {
     "output_type": "stream",
     "name": "stdout",
     "text": [
      "..\\data\\Induced\\24\\30 uM Theophylline-03.czi\n"
     ]
    },
    {
     "output_type": "stream",
     "name": "stderr",
     "text": [
      " 47%|████▋     | 45/96 [2:13:25<2:45:07, 194.26s/it]"
     ]
    },
    {
     "output_type": "stream",
     "name": "stdout",
     "text": [
      "..\\data\\Induced\\24\\30 uM Theophylline-04.czi\n"
     ]
    },
    {
     "output_type": "stream",
     "name": "stderr",
     "text": [
      " 48%|████▊     | 46/96 [2:16:46<2:43:24, 196.08s/it]"
     ]
    },
    {
     "output_type": "stream",
     "name": "stdout",
     "text": [
      "..\\data\\Induced\\24\\30 uM Theophylline-05.czi\n"
     ]
    },
    {
     "output_type": "stream",
     "name": "stderr",
     "text": [
      " 49%|████▉     | 47/96 [2:20:10<2:42:08, 198.55s/it]"
     ]
    },
    {
     "output_type": "stream",
     "name": "stdout",
     "text": [
      "..\\data\\Induced\\24\\30 uM Theophylline-06.czi\n"
     ]
    },
    {
     "output_type": "stream",
     "name": "stderr",
     "text": [
      " 50%|█████     | 48/96 [2:23:31<2:39:25, 199.27s/it]"
     ]
    },
    {
     "output_type": "stream",
     "name": "stdout",
     "text": [
      "..\\data\\Induced\\24\\30 uM Theophylline-07.czi\n"
     ]
    },
    {
     "output_type": "stream",
     "name": "stderr",
     "text": [
      " 51%|█████     | 49/96 [2:26:53<2:36:41, 200.03s/it]"
     ]
    },
    {
     "output_type": "stream",
     "name": "stdout",
     "text": [
      "..\\data\\Induced\\24\\30 uM Theophylline-08.czi\n"
     ]
    },
    {
     "output_type": "stream",
     "name": "stderr",
     "text": [
      " 52%|█████▏    | 50/96 [2:30:16<2:34:08, 201.05s/it]"
     ]
    },
    {
     "output_type": "stream",
     "name": "stdout",
     "text": [
      "..\\data\\Induced\\24\\30 uM Theophylline-09.czi\n"
     ]
    },
    {
     "output_type": "stream",
     "name": "stderr",
     "text": [
      " 53%|█████▎    | 51/96 [2:33:39<2:31:11, 201.59s/it]"
     ]
    },
    {
     "output_type": "stream",
     "name": "stdout",
     "text": [
      "..\\data\\Induced\\24\\30 uM Theophylline.czi\n"
     ]
    },
    {
     "output_type": "stream",
     "name": "stderr",
     "text": [
      " 54%|█████▍    | 52/96 [2:36:59<2:27:26, 201.05s/it]"
     ]
    },
    {
     "output_type": "stream",
     "name": "stdout",
     "text": [
      "..\\data\\Induced\\4\\#321 + 30 uM Theo t = 4-02.czi\n"
     ]
    },
    {
     "output_type": "stream",
     "name": "stderr",
     "text": [
      " 55%|█████▌    | 53/96 [2:40:13<2:22:33, 198.91s/it]"
     ]
    },
    {
     "output_type": "stream",
     "name": "stdout",
     "text": [
      "..\\data\\Induced\\4\\#321 + 30 uM Theo t = 4-03.czi\n"
     ]
    },
    {
     "output_type": "stream",
     "name": "stderr",
     "text": [
      " 56%|█████▋    | 54/96 [2:43:05<2:13:32, 190.77s/it]"
     ]
    },
    {
     "output_type": "stream",
     "name": "stdout",
     "text": [
      "..\\data\\Induced\\4\\#321 + 30 uM Theo t = 4-04.czi\n"
     ]
    },
    {
     "output_type": "stream",
     "name": "stderr",
     "text": [
      " 57%|█████▋    | 55/96 [2:45:58<2:06:45, 185.51s/it]"
     ]
    },
    {
     "output_type": "stream",
     "name": "stdout",
     "text": [
      "..\\data\\Induced\\4\\#321 + 30 uM Theo t = 4-05.czi\n"
     ]
    },
    {
     "output_type": "stream",
     "name": "stderr",
     "text": [
      " 58%|█████▊    | 56/96 [2:48:37<1:58:23, 177.60s/it]"
     ]
    },
    {
     "output_type": "stream",
     "name": "stdout",
     "text": [
      "..\\data\\Induced\\4\\#321 + 30 uM Theo t = 4-06.czi\n"
     ]
    },
    {
     "output_type": "stream",
     "name": "stderr",
     "text": [
      " 59%|█████▉    | 57/96 [2:51:17<1:52:06, 172.47s/it]"
     ]
    },
    {
     "output_type": "stream",
     "name": "stdout",
     "text": [
      "..\\data\\Induced\\4\\#321 + 30 uM Theo t = 4-07.czi\n"
     ]
    },
    {
     "output_type": "stream",
     "name": "stderr",
     "text": [
      " 60%|██████    | 58/96 [2:54:36<1:54:13, 180.36s/it]"
     ]
    },
    {
     "output_type": "stream",
     "name": "stdout",
     "text": [
      "..\\data\\Induced\\4\\#321 + 30 uM Theo t = 4-08.czi\n"
     ]
    },
    {
     "output_type": "stream",
     "name": "stderr",
     "text": [
      " 61%|██████▏   | 59/96 [2:57:04<1:45:14, 170.66s/it]"
     ]
    },
    {
     "output_type": "stream",
     "name": "stdout",
     "text": [
      "..\\data\\Induced\\4\\#321 + 30 uM Theo t = 4-09.czi\n"
     ]
    },
    {
     "output_type": "stream",
     "name": "stderr",
     "text": [
      " 62%|██████▎   | 60/96 [3:00:15<1:45:55, 176.55s/it]"
     ]
    },
    {
     "output_type": "stream",
     "name": "stdout",
     "text": [
      "..\\data\\Induced\\4\\#321 + 30 uM Theo t = 4-10.czi\n"
     ]
    },
    {
     "output_type": "stream",
     "name": "stderr",
     "text": [
      " 64%|██████▎   | 61/96 [3:03:15<1:43:44, 177.85s/it]"
     ]
    },
    {
     "output_type": "stream",
     "name": "stdout",
     "text": [
      "..\\data\\Induced\\4\\#321 + 30 uM Theo t = 4.czi\n"
     ]
    },
    {
     "output_type": "stream",
     "name": "stderr",
     "text": [
      " 65%|██████▍   | 62/96 [3:05:59<1:38:19, 173.52s/it]"
     ]
    },
    {
     "output_type": "stream",
     "name": "stdout",
     "text": [
      "..\\data\\Induced\\48\\30 uM Theophylline-02.czi\n"
     ]
    },
    {
     "output_type": "stream",
     "name": "stderr",
     "text": [
      " 66%|██████▌   | 63/96 [3:09:17<1:39:35, 181.06s/it]"
     ]
    },
    {
     "output_type": "stream",
     "name": "stdout",
     "text": [
      "..\\data\\Induced\\48\\30 uM Theophylline-03.czi\n"
     ]
    },
    {
     "output_type": "stream",
     "name": "stderr",
     "text": [
      " 67%|██████▋   | 64/96 [3:12:27<1:37:57, 183.66s/it]"
     ]
    },
    {
     "output_type": "stream",
     "name": "stdout",
     "text": [
      "..\\data\\Induced\\48\\30 uM Theophylline-04.czi\n"
     ]
    },
    {
     "output_type": "stream",
     "name": "stderr",
     "text": [
      " 68%|██████▊   | 65/96 [3:15:45<1:37:08, 188.00s/it]"
     ]
    },
    {
     "output_type": "stream",
     "name": "stdout",
     "text": [
      "..\\data\\Induced\\48\\30 uM Theophylline-05-2.czi\n"
     ]
    },
    {
     "output_type": "stream",
     "name": "stderr",
     "text": [
      " 69%|██████▉   | 66/96 [3:19:05<1:35:41, 191.40s/it]"
     ]
    },
    {
     "output_type": "stream",
     "name": "stdout",
     "text": [
      "..\\data\\Induced\\48\\30 uM Theophylline-05.czi\n"
     ]
    },
    {
     "output_type": "stream",
     "name": "stderr",
     "text": [
      " 70%|██████▉   | 67/96 [3:22:23<1:33:34, 193.60s/it]"
     ]
    },
    {
     "output_type": "stream",
     "name": "stdout",
     "text": [
      "..\\data\\Induced\\48\\30 uM Theophylline-06.czi\n"
     ]
    },
    {
     "output_type": "stream",
     "name": "stderr",
     "text": [
      " 71%|███████   | 68/96 [3:25:41<1:30:55, 194.85s/it]"
     ]
    },
    {
     "output_type": "stream",
     "name": "stdout",
     "text": [
      "..\\data\\Induced\\48\\30 uM Theophylline.czi\n"
     ]
    },
    {
     "output_type": "stream",
     "name": "stderr",
     "text": [
      " 72%|███████▏  | 69/96 [3:28:58<1:28:00, 195.59s/it]"
     ]
    },
    {
     "output_type": "stream",
     "name": "stdout",
     "text": [
      "..\\data\\Induced\\72\\30uM Theophylline-02.czi\n"
     ]
    },
    {
     "output_type": "stream",
     "name": "stderr",
     "text": [
      " 73%|███████▎  | 70/96 [3:31:27<1:18:41, 181.60s/it]"
     ]
    },
    {
     "output_type": "stream",
     "name": "stdout",
     "text": [
      "..\\data\\Induced\\72\\30uM Theophylline-03.czi\n"
     ]
    },
    {
     "output_type": "stream",
     "name": "stderr",
     "text": [
      " 74%|███████▍  | 71/96 [3:33:52<1:11:02, 170.49s/it]"
     ]
    },
    {
     "output_type": "stream",
     "name": "stdout",
     "text": [
      "..\\data\\Induced\\72\\30uM Theophylline-04.czi\n"
     ]
    },
    {
     "output_type": "stream",
     "name": "stderr",
     "text": [
      " 75%|███████▌  | 72/96 [3:36:45<1:08:28, 171.20s/it]"
     ]
    },
    {
     "output_type": "stream",
     "name": "stdout",
     "text": [
      "..\\data\\Induced\\72\\30uM Theophylline-05.czi\n"
     ]
    },
    {
     "output_type": "stream",
     "name": "stderr",
     "text": [
      " 76%|███████▌  | 73/96 [3:39:30<1:04:57, 169.48s/it]"
     ]
    },
    {
     "output_type": "stream",
     "name": "stdout",
     "text": [
      "..\\data\\Induced\\72\\30uM Theophylline-06.czi\n"
     ]
    },
    {
     "output_type": "stream",
     "name": "stderr",
     "text": [
      " 77%|███████▋  | 74/96 [3:42:16<1:01:44, 168.40s/it]"
     ]
    },
    {
     "output_type": "stream",
     "name": "stdout",
     "text": [
      "..\\data\\Induced\\72\\30uM Theophylline-07.czi\n"
     ]
    },
    {
     "output_type": "stream",
     "name": "stderr",
     "text": [
      " 78%|███████▊  | 75/96 [3:45:16<1:00:05, 171.69s/it]"
     ]
    },
    {
     "output_type": "stream",
     "name": "stdout",
     "text": [
      "..\\data\\Induced\\72\\30uM Theophylline-08.czi\n"
     ]
    },
    {
     "output_type": "stream",
     "name": "stderr",
     "text": [
      " 79%|███████▉  | 76/96 [3:48:06<57:08, 171.41s/it]  "
     ]
    },
    {
     "output_type": "stream",
     "name": "stdout",
     "text": [
      "..\\data\\Induced\\72\\30uM Theophylline-09.czi\n"
     ]
    },
    {
     "output_type": "stream",
     "name": "stderr",
     "text": [
      " 80%|████████  | 77/96 [3:50:47<53:14, 168.12s/it]"
     ]
    },
    {
     "output_type": "stream",
     "name": "stdout",
     "text": [
      "..\\data\\Induced\\72\\30uM Theophylline-10.czi\n"
     ]
    },
    {
     "output_type": "stream",
     "name": "stderr",
     "text": [
      " 81%|████████▏ | 78/96 [3:53:12<48:23, 161.31s/it]"
     ]
    },
    {
     "output_type": "stream",
     "name": "stdout",
     "text": [
      "..\\data\\Induced\\72\\30uM Theophylline-11.czi\n"
     ]
    },
    {
     "output_type": "stream",
     "name": "stderr",
     "text": [
      " 82%|████████▏ | 79/96 [3:55:19<42:46, 150.99s/it]"
     ]
    },
    {
     "output_type": "stream",
     "name": "stdout",
     "text": [
      "..\\data\\Induced\\72\\30uM Theophylline.czi\n"
     ]
    },
    {
     "output_type": "stream",
     "name": "stderr",
     "text": [
      " 83%|████████▎ | 80/96 [3:57:43<39:39, 148.74s/it]"
     ]
    },
    {
     "output_type": "stream",
     "name": "stdout",
     "text": [
      "..\\data\\Induced\\8\\#321 t = 8 + 30 uM Theo-02.czi\n"
     ]
    },
    {
     "output_type": "stream",
     "name": "stderr",
     "text": [
      " 84%|████████▍ | 81/96 [4:00:57<40:36, 162.46s/it]"
     ]
    },
    {
     "output_type": "stream",
     "name": "stdout",
     "text": [
      "..\\data\\Induced\\8\\#321 t = 8 + 30 uM Theo-03.czi\n"
     ]
    },
    {
     "output_type": "stream",
     "name": "stderr",
     "text": [
      " 85%|████████▌ | 82/96 [4:04:19<40:39, 174.23s/it]"
     ]
    },
    {
     "output_type": "stream",
     "name": "stdout",
     "text": [
      "..\\data\\Induced\\8\\#321 t = 8 + 30 uM Theo-04.czi\n"
     ]
    },
    {
     "output_type": "stream",
     "name": "stderr",
     "text": [
      " 86%|████████▋ | 83/96 [4:07:40<39:30, 182.37s/it]"
     ]
    },
    {
     "output_type": "stream",
     "name": "stdout",
     "text": [
      "..\\data\\Induced\\8\\#321 t = 8 + 30 uM Theo-05.czi\n"
     ]
    },
    {
     "output_type": "stream",
     "name": "stderr",
     "text": [
      " 88%|████████▊ | 84/96 [4:11:01<37:35, 187.96s/it]"
     ]
    },
    {
     "output_type": "stream",
     "name": "stdout",
     "text": [
      "..\\data\\Induced\\8\\#321 t = 8 + 30 uM Theo-06.czi\n"
     ]
    },
    {
     "output_type": "stream",
     "name": "stderr",
     "text": [
      " 89%|████████▊ | 85/96 [4:14:09<34:27, 187.98s/it]"
     ]
    },
    {
     "output_type": "stream",
     "name": "stdout",
     "text": [
      "..\\data\\Induced\\8\\#321 t = 8 + 30 uM Theo-07.czi\n"
     ]
    },
    {
     "output_type": "stream",
     "name": "stderr",
     "text": [
      " 90%|████████▉ | 86/96 [4:17:02<30:32, 183.29s/it]"
     ]
    },
    {
     "output_type": "stream",
     "name": "stdout",
     "text": [
      "..\\data\\Induced\\8\\#321 t = 8 + 30 uM Theo-08.czi\n"
     ]
    },
    {
     "output_type": "stream",
     "name": "stderr",
     "text": [
      " 91%|█████████ | 87/96 [4:20:06<27:32, 183.63s/it]"
     ]
    },
    {
     "output_type": "stream",
     "name": "stdout",
     "text": [
      "..\\data\\Induced\\8\\#321 t = 8 + 30 uM Theo-09.czi\n"
     ]
    },
    {
     "output_type": "stream",
     "name": "stderr",
     "text": [
      " 92%|█████████▏| 88/96 [4:23:15<24:42, 185.30s/it]"
     ]
    },
    {
     "output_type": "stream",
     "name": "stdout",
     "text": [
      "..\\data\\Induced\\8\\#321 t = 8 + 30 uM Theo-10.czi\n"
     ]
    },
    {
     "output_type": "stream",
     "name": "stderr",
     "text": [
      " 93%|█████████▎| 89/96 [4:26:28<21:53, 187.65s/it]"
     ]
    },
    {
     "output_type": "stream",
     "name": "stdout",
     "text": [
      "..\\data\\Induced\\8\\#321 t = 8 + 30 uM Theo.czi\n"
     ]
    },
    {
     "output_type": "stream",
     "name": "stderr",
     "text": [
      " 94%|█████████▍| 90/96 [4:29:24<18:23, 183.96s/it]"
     ]
    },
    {
     "output_type": "stream",
     "name": "stdout",
     "text": [
      "..\\data\\Induced\\8\\#321 t =8 + 30 uM Theo-02.czi\n"
     ]
    },
    {
     "output_type": "stream",
     "name": "stderr",
     "text": [
      " 95%|█████████▍| 91/96 [4:31:28<13:50, 166.13s/it]"
     ]
    },
    {
     "output_type": "stream",
     "name": "stdout",
     "text": [
      "..\\data\\Induced\\8\\#321 t =8 + 30 uM Theo-03.czi\n"
     ]
    },
    {
     "output_type": "stream",
     "name": "stderr",
     "text": [
      " 96%|█████████▌| 92/96 [4:33:38<10:20, 155.15s/it]"
     ]
    },
    {
     "output_type": "stream",
     "name": "stdout",
     "text": [
      "..\\data\\Induced\\8\\#321 t =8 + 30 uM Theo-04.czi\n"
     ]
    },
    {
     "output_type": "stream",
     "name": "stderr",
     "text": [
      " 97%|█████████▋| 93/96 [4:35:50<07:25, 148.36s/it]"
     ]
    },
    {
     "output_type": "stream",
     "name": "stdout",
     "text": [
      "..\\data\\Induced\\8\\#321 t =8 + 30 uM Theo-05.czi\n"
     ]
    },
    {
     "output_type": "stream",
     "name": "stderr",
     "text": [
      " 98%|█████████▊| 94/96 [4:38:24<05:00, 150.07s/it]"
     ]
    },
    {
     "output_type": "stream",
     "name": "stdout",
     "text": [
      "..\\data\\Induced\\8\\#321 t =8 + 30 uM Theo-06.czi\n"
     ]
    },
    {
     "output_type": "stream",
     "name": "stderr",
     "text": [
      " 99%|█████████▉| 95/96 [4:40:34<02:23, 143.86s/it]"
     ]
    },
    {
     "output_type": "stream",
     "name": "stdout",
     "text": [
      "..\\data\\Induced\\8\\#321 t =8 + 30 uM Theo.czi\n"
     ]
    },
    {
     "output_type": "stream",
     "name": "stderr",
     "text": [
      "100%|██████████| 96/96 [4:42:40<00:00, 176.67s/it]\n"
     ]
    }
   ],
   "metadata": {}
  },
  {
   "cell_type": "code",
   "execution_count": null,
   "source": [],
   "outputs": [],
   "metadata": {}
  }
 ],
 "metadata": {
  "kernelspec": {
   "name": "python3",
   "display_name": "Python 3.8.10 64-bit ('ml': conda)"
  },
  "language_info": {
   "codemirror_mode": {
    "name": "ipython",
    "version": 3
   },
   "file_extension": ".py",
   "mimetype": "text/x-python",
   "name": "python",
   "nbconvert_exporter": "python",
   "pygments_lexer": "ipython3",
   "version": "3.8.10"
  },
  "interpreter": {
   "hash": "278c166d529c8d3fbcdc218dfcd6d657fcaf3c2916799e6ada23a5bf5eefbec9"
  }
 },
 "nbformat": 4,
 "nbformat_minor": 5
}